{
 "cells": [
  {
   "cell_type": "code",
   "execution_count": null,
   "metadata": {},
   "outputs": [],
   "source": [
    "# https://github.com/nilmtk/nilmtk-contrib/blob/master/sample_notebooks/Using%20the%20%20API%20with%20NILMTK-CONTRIB.ipynb"
   ]
  },
  {
   "cell_type": "code",
   "execution_count": 1,
   "metadata": {},
   "outputs": [],
   "source": [
    "import warnings\n",
    "warnings.filterwarnings(\"ignore\")"
   ]
  },
  {
   "cell_type": "code",
   "execution_count": 2,
   "metadata": {},
   "outputs": [],
   "source": [
    "from nilmtk.api import API"
   ]
  },
  {
   "cell_type": "code",
   "execution_count": null,
   "metadata": {},
   "outputs": [],
   "source": []
  },
  {
   "cell_type": "code",
   "execution_count": 3,
   "metadata": {},
   "outputs": [],
   "source": [
    "from nilmtk.disaggregate import Mean"
   ]
  },
  {
   "cell_type": "code",
   "execution_count": 4,
   "metadata": {},
   "outputs": [],
   "source": [
    "from nilmtk_contrib.disaggregate import DAE,Seq2Point, Seq2Seq, RNN, WindowGRU"
   ]
  },
  {
   "cell_type": "code",
   "execution_count": 5,
   "metadata": {},
   "outputs": [],
   "source": [
    "redd = {\n",
    "  'power': {\n",
    "    'mains': ['apparent','active'],\n",
    "    'appliance': ['apparent','active']\n",
    "  },\n",
    "  'sample_rate': 60,\n",
    "\n",
    "  'appliances': ['fridge'],\n",
    "  'methods': {\n",
    "    \n",
    "      'WindowGRU':WindowGRU({'n_epochs':50,'batch_size':32}),\n",
    "      'RNN':RNN({'n_epochs':50,'batch_size':32}),\n",
    "      'DAE':DAE({'n_epochs':50,'batch_size':32}),\n",
    "      'Seq2Point':Seq2Point({'n_epochs':50,'batch_size':32}),\n",
    "      'Seq2Seq':Seq2Seq({'n_epochs':50,'batch_size':32}),\n",
    "\n",
    "      'Mean': Mean({}),\n",
    "          \n",
    "  },\n",
    "   'train': {    \n",
    "    'datasets': {\n",
    "            #'Dataport': {\n",
    "            #    'path': 'C:/Users/Hp/Desktop/nilmtk-contrib/dataport.hdf5',\n",
    "\t\t\t#\t'buildings': {\n",
    "\t\t\t#\t10: {\n",
    "\t\t\t#\t\t'start_time': '2015-04-04',\n",
    "\t\t\t#\t\t'end_time': '2015-04-05'\n",
    "\t\t\t#\t},\n",
    "#                 56: {\n",
    "#             'start_time': '2015-01-28',\n",
    "#             'end_time': '2015-01-30'\n",
    "#           },\n",
    "\t\t\t#\t}\n",
    "\t\t\t#\t                \n",
    "\t\t\t#}\n",
    "            'redd': {\n",
    "                 'path': '../../dataset/redd/redd.h5',    \n",
    "                 'buildings': {\n",
    "                     1: {\n",
    "                        'start_time': '2011-04-27',\n",
    "                        'end_time': '2011-04-29'                     \n",
    "                     }\n",
    "                 }\n",
    "            }\n",
    "\t\t\t}\n",
    "\t},\n",
    "\t'test': {\n",
    "\t'datasets': {\n",
    "\t#\t'Datport': {\n",
    "\t#\t\t'path': 'C:/Users/Hp/Desktop/nilmtk-contrib/dataport.hdf5',\n",
    "\t#\t\t'buildings': {\n",
    "\t#\t\t\t10: {\n",
    "\t#\t\t\t\t'start_time': '2015-04-05',\n",
    "\t#\t\t\t\t'end_time': '2015-04-06'\n",
    "\t#\t\t\t},\n",
    "\t#\t\t}\n",
    "\t#}\n",
    "         'redd': {\n",
    "             'path': '../../dataset/redd/redd.h5',   \n",
    "             'buildings': {\n",
    "                 1: {\n",
    "                         'start_time': '2011-04-30',\n",
    "                        'end_time': '2011-05-01'                    \n",
    "                 }\n",
    "             }\n",
    "         }\n",
    "},\n",
    "        'metrics':['mae']\n",
    "}\n",
    "}"
   ]
  },
  {
   "cell_type": "code",
   "execution_count": 6,
   "metadata": {},
   "outputs": [
    {
     "name": "stdout",
     "output_type": "stream",
     "text": [
      "Joint Testing for all algorithms\n",
      "Loading data for  redd  dataset\n",
      "Loading data for meter ElecMeterID(instance=2, building=1, dataset='REDD')     \n",
      "Done loading data all meters for this chunk.\n",
      "Dropping missing values\n",
      "Generating predictions for : WindowGRU\n",
      "45/45 [==============================] - 2s 26ms/step\n",
      "Generating predictions for : RNN\n",
      "45/45 [==============================] - 1s 14ms/step\n",
      "Generating predictions for : DAE\n",
      "1/1 [==============================] - 0s 43ms/step\n",
      "Generating predictions for : Seq2Point\n",
      "45/45 [==============================] - 0s 6ms/step\n",
      "Generating predictions for : Seq2Seq\n",
      "42/42 [==============================] - 0s 1ms/step\n",
      "Generating predictions for : Mean\n",
      "............  mae  ..............\n",
      "        WindowGRU        RNN        DAE  Seq2Point    Seq2Seq       Mean\n",
      "fridge  35.409981  44.799435  60.482342  42.839409  42.162224  66.962143\n"
     ]
    }
   ],
   "source": [
    "api_res = API(redd)"
   ]
  },
  {
   "cell_type": "code",
   "execution_count": 7,
   "metadata": {},
   "outputs": [
    {
     "data": {
      "text/plain": [
       "[        WindowGRU        RNN        DAE  Seq2Point    Seq2Seq       Mean\n",
       " fridge  35.409981  44.799435  60.482342  42.839409  42.162224  66.962143]"
      ]
     },
     "execution_count": 7,
     "metadata": {},
     "output_type": "execute_result"
    }
   ],
   "source": [
    "api_res.errors"
   ]
  },
  {
   "cell_type": "code",
   "execution_count": 8,
   "metadata": {},
   "outputs": [
    {
     "data": {
      "text/plain": [
       "['redd_1_mae']"
      ]
     },
     "execution_count": 8,
     "metadata": {},
     "output_type": "execute_result"
    }
   ],
   "source": [
    "api_res.errors_keys"
   ]
  },
  {
   "cell_type": "code",
   "execution_count": null,
   "metadata": {},
   "outputs": [],
   "source": []
  },
  {
   "cell_type": "code",
   "execution_count": null,
   "metadata": {},
   "outputs": [],
   "source": []
  },
  {
   "cell_type": "code",
   "execution_count": null,
   "metadata": {},
   "outputs": [],
   "source": []
  },
  {
   "cell_type": "code",
   "execution_count": null,
   "metadata": {},
   "outputs": [],
   "source": []
  },
  {
   "cell_type": "code",
   "execution_count": null,
   "metadata": {},
   "outputs": [],
   "source": []
  }
 ],
 "metadata": {
  "kernelspec": {
   "display_name": "Python 3 (ipykernel)",
   "language": "python",
   "name": "python3"
  },
  "language_info": {
   "codemirror_mode": {
    "name": "ipython",
    "version": 3
   },
   "file_extension": ".py",
   "mimetype": "text/x-python",
   "name": "python",
   "nbconvert_exporter": "python",
   "pygments_lexer": "ipython3",
   "version": "3.11.8"
  }
 },
 "nbformat": 4,
 "nbformat_minor": 4
}
