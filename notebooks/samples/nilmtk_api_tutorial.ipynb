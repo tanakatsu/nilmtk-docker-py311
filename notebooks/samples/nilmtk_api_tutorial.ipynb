{
 "cells": [
  {
   "cell_type": "code",
   "execution_count": null,
   "metadata": {},
   "outputs": [],
   "source": [
    "# https://github.com/nilmtk/nilmtk/blob/master/docs/manual/user_guide/nilmtk_api_tutorial.ipynb"
   ]
  },
  {
   "cell_type": "markdown",
   "metadata": {},
   "source": [
    "# NILMTK Rapid Experimentation API"
   ]
  },
  {
   "cell_type": "markdown",
   "metadata": {},
   "source": [
    "### This notebook demonstrates the use of NILMTK's ExperimentAPI - a  new  NILMTK  interface which  allows NILMTK users to focus on which experiments to run rather than on the code required to run such experiments."
   ]
  },
  {
   "cell_type": "markdown",
   "metadata": {},
   "source": [
    "It is important to note that handing over so much flexibility to the user does require the user to be somewhat familiar with the data set, but this part of the process is supported by NILMTK as data exploration is simple and well documented. "
   ]
  },
  {
   "cell_type": "markdown",
   "metadata": {},
   "source": [
    "Lets us start with a very simple experiment to demonstrate the use of the API for multiple appliances in a minimal use case. This experiment shows how the user can select the appliances in the dataset on which disaggregation is to be performed."
   ]
  },
  {
   "cell_type": "markdown",
   "metadata": {},
   "source": [
    "Importing the API. "
   ]
  },
  {
   "cell_type": "code",
   "execution_count": 1,
   "metadata": {},
   "outputs": [],
   "source": [
    "from nilmtk.api import API\n",
    "import warnings\n",
    "warnings.filterwarnings(\"ignore\")"
   ]
  },
  {
   "cell_type": "markdown",
   "metadata": {},
   "source": [
    "Next, we import the required algorithms on which we wish to run the experiments"
   ]
  },
  {
   "cell_type": "code",
   "execution_count": 2,
   "metadata": {},
   "outputs": [],
   "source": [
    "from nilmtk.disaggregate import CO"
   ]
  },
  {
   "cell_type": "markdown",
   "metadata": {},
   "source": [
    "Next, we enter the values for the different parameters in the dictionary. Since we need multiple appliances, we enter the names of all the required appliances in the _'appliances'_ parameter."
   ]
  },
  {
   "cell_type": "code",
   "execution_count": 3,
   "metadata": {},
   "outputs": [],
   "source": [
    "experiment1 = {\n",
    "  'power': {'mains': ['apparent','active'],'appliance': ['apparent','active']},\n",
    "  'sample_rate': 60,\n",
    "  # 'appliances': ['fridge','air conditioner', 'microwave'],\n",
    "  'appliances': ['fridge','dish washer', 'microwave'],\n",
    "  'methods': {\"CO\":CO({})},\n",
    "  'train': {    \n",
    "    'datasets': {\n",
    "        #'Dataport': {\n",
    "        #    'path': 'data/dataport.hdf5',\n",
    "        #    'buildings': {\n",
    "        #        10: {\n",
    "        #            'start_time': '2015-04-04',\n",
    "        #            'end_time': '2015-04-06'\n",
    "        #            }\n",
    "        #        }                \n",
    "        #    }\n",
    "        'redd': {\n",
    "            'path': '../../dataset/redd/redd.h5',\n",
    "            'buildings': {\n",
    "                1: {\n",
    "                    'start_time': '2011-04-26',\n",
    "                    'end_time': '2011-04-29'\n",
    "                    }\n",
    "                }                \n",
    "            }\n",
    "        }\n",
    "    },\n",
    "  'test': {\n",
    "    'datasets': {\n",
    "        #'Dataport': {\n",
    "        #    'path': 'data/dataport.hdf5',\n",
    "        #    'buildings': {\n",
    "        #        10: {\n",
    "        #            'start_time': '2015-04-25',\n",
    "        #            'end_time': '2015-04-26'\n",
    "        #            }\n",
    "        #        }\n",
    "        #    }\n",
    "        'redd': {\n",
    "            'path': '../../dataset/redd/redd.h5',\n",
    "            'buildings': {\n",
    "                1: {\n",
    "                    'start_time': '2011-04-30',\n",
    "                    'end_time': '2011-05-01'\n",
    "                    }\n",
    "                }\n",
    "            }\n",
    "        },\n",
    "        'metrics':['rmse']\n",
    "    }\n",
    "}"
   ]
  },
  {
   "cell_type": "markdown",
   "metadata": {},
   "source": [
    "In this example experimental setup, we have set the _sample rate_ at 60Hz and use Combinatorial Optimisation to \n",
    "disaggregate the required appliances from building 10 in the dataport dataset with the _RMSE_ metric to measure the accuracy. We also specify the dates for training and testing\n",
    "\n",
    "Next we provide this experiment dictionary as input to the API."
   ]
  },
  {
   "cell_type": "code",
   "execution_count": 4,
   "metadata": {},
   "outputs": [
    {
     "name": "stdout",
     "output_type": "stream",
     "text": [
      "Joint Testing for all algorithms\n",
      "Loading data for  redd  dataset\n",
      "Loading data for meter ElecMeterID(instance=2, building=1, dataset='REDD')     \n",
      "Done loading data all meters for this chunk.\n",
      "Dropping missing values\n",
      "Generating predictions for : CO\n",
      "...............CO disaggregate_chunk running.............\n",
      "............  rmse  ..............wave'r'\n",
      "                     CO\n",
      "fridge       199.626859\n",
      "dish washer  446.380163\n",
      "microwave    519.516301\n"
     ]
    }
   ],
   "source": [
    "api_results_experiment_1 = API(experiment1)"
   ]
  },
  {
   "cell_type": "markdown",
   "metadata": {},
   "source": [
    "We can observe the prediction vs. truth graphs in the above cell. The accuracy metrics can be accessed using the following commands:"
   ]
  },
  {
   "cell_type": "code",
   "execution_count": 5,
   "metadata": {},
   "outputs": [
    {
     "name": "stdout",
     "output_type": "stream",
     "text": [
      "redd_1_rmse\n",
      "                     CO\n",
      "fridge       199.626859\n",
      "dish washer  446.380163\n",
      "microwave    519.516301\n",
      "\n",
      "\n",
      "\n"
     ]
    }
   ],
   "source": [
    "errors_keys = api_results_experiment_1.errors_keys\n",
    "errors = api_results_experiment_1.errors\n",
    "for i in range(len(errors)):\n",
    "    print (errors_keys[i])\n",
    "    print (errors[i])\n",
    "    print (\"\\n\\n\")"
   ]
  },
  {
   "cell_type": "markdown",
   "metadata": {},
   "source": [
    "This was a trivial experiment that only scratches the surface of the true potential of this API."
   ]
  },
  {
   "cell_type": "markdown",
   "metadata": {},
   "source": [
    "In the next experiment we will run an incrementally more complex version of the above experiment. Here we will use multiple models to disaggregate the appliance readings with the models having their own sets of parameters which can be set by the users within the experimental dictionary in order to fine tune experiments."
   ]
  },
  {
   "cell_type": "markdown",
   "metadata": {},
   "source": [
    "We also import the required algorithms for the next experiments"
   ]
  },
  {
   "cell_type": "code",
   "execution_count": 6,
   "metadata": {},
   "outputs": [],
   "source": [
    "# from nilmtk.disaggregate import FHMM_EXACT, Mean\n",
    "from nilmtk.disaggregate import FHMMExact, Mean"
   ]
  },
  {
   "cell_type": "code",
   "execution_count": 7,
   "metadata": {},
   "outputs": [],
   "source": [
    "experiment2 = {\n",
    "  'power': {'mains': ['apparent','active'],'appliance': ['apparent','active']},\n",
    "  'sample_rate': 60,\n",
    "  # 'appliances': ['fridge','air conditioner', 'microwave'],\n",
    "  'appliances': ['fridge','dish washer', 'microwave'],\n",
    "  # 'methods': {\"Mean\":Mean({}),\"FHMM_EXACT\":FHMM_EXACT({'num_of_states':2}), \"CombinatorialOptimisation\":CO({})},\n",
    "  'methods': {\"Mean\":Mean({}),\"FHMMExact\":FHMMExact({'num_of_states':2}), \"CombinatorialOptimisation\":CO({})},\n",
    "  'train': {    \n",
    "    'datasets': {\n",
    "        #'Dataport': {\n",
    "        #    'path': 'data/dataport.hdf5',\n",
    "        #    'buildings': {\n",
    "        #        10: {\n",
    "        #            'start_time': '2015-04-04',\n",
    "        #            'end_time': '2015-04-06'\n",
    "        #            }\n",
    "        #        }                \n",
    "        #    }\n",
    "        'redd': {\n",
    "            'path': '../../dataset/redd/redd.h5',\n",
    "            'buildings': {\n",
    "                1: {\n",
    "                    'start_time': '2011-04-26',\n",
    "                    'end_time': '2011-04-29'\n",
    "                    }\n",
    "                }                \n",
    "            }\n",
    "        }\n",
    "    },\n",
    "  'test': {\n",
    "    'datasets': {\n",
    "        #'Dataport': {\n",
    "        #    'path': 'data/dataport.hdf5',\n",
    "        #    'buildings': {\n",
    "        #        10: {\n",
    "        #            'start_time': '2015-04-25',\n",
    "        #            'end_time': '2015-04-26'\n",
    "        #            }\n",
    "        #        }\n",
    "        #    }\n",
    "        'redd': {\n",
    "            'path': '../../dataset/redd/redd.h5',\n",
    "            'buildings': {\n",
    "                1: {\n",
    "                    'start_time': '2011-04-30',\n",
    "                    'end_time': '2011-05-01'\n",
    "                    }\n",
    "                }\n",
    "            }\n",
    "        },\n",
    "        'metrics':['mae', 'rmse']\n",
    "    }\n",
    "}"
   ]
  },
  {
   "cell_type": "code",
   "execution_count": 8,
   "metadata": {
    "scrolled": true
   },
   "outputs": [
    {
     "name": "stdout",
     "output_type": "stream",
     "text": [
      "Joint Testing for all algorithms\n",
      "Loading data for  redd  dataset\n",
      "Loading data for meter ElecMeterID(instance=2, building=1, dataset='REDD')     \n",
      "Done loading data all meters for this chunk.\n",
      "Dropping missing values\n",
      "Generating predictions for : Mean\n",
      "Generating predictions for : FHMM\n",
      "Generating predictions for : CO\n",
      "...............CO disaggregate_chunk running.............\n",
      "............  mae  ..............owave'r'\n",
      "                  Mean   FHMMExact  CombinatorialOptimisation\n",
      "fridge       69.150978   83.206024                 163.684143\n",
      "dish washer  78.050056  167.286194                 241.650696\n",
      "microwave    34.286942   81.578827                 275.645447\n",
      "............  rmse  ..............\n",
      "                   Mean   FHMMExact  CombinatorialOptimisation\n",
      "fridge        80.203093  121.692612                 199.626859\n",
      "dish washer  253.148934  255.244070                 446.380163\n",
      "microwave    161.838739  171.196627                 519.516301\n"
     ]
    }
   ],
   "source": [
    "api_results_experiment_2 = API(experiment2)"
   ]
  },
  {
   "cell_type": "code",
   "execution_count": 9,
   "metadata": {},
   "outputs": [
    {
     "data": {
      "text/plain": [
       "[                  Mean   FHMMExact  CombinatorialOptimisation\n",
       " fridge       69.150978   83.206024                 163.684143\n",
       " dish washer  78.050056  167.286194                 241.650696\n",
       " microwave    34.286942   81.578827                 275.645447,\n",
       "                    Mean   FHMMExact  CombinatorialOptimisation\n",
       " fridge        80.203093  121.692612                 199.626859\n",
       " dish washer  253.148934  255.244070                 446.380163\n",
       " microwave    161.838739  171.196627                 519.516301]"
      ]
     },
     "execution_count": 9,
     "metadata": {},
     "output_type": "execute_result"
    }
   ],
   "source": [
    "api_results_experiment_2.errors"
   ]
  },
  {
   "cell_type": "code",
   "execution_count": 10,
   "metadata": {},
   "outputs": [
    {
     "name": "stdout",
     "output_type": "stream",
     "text": [
      "redd_1_mae\n",
      "                  Mean   FHMMExact  CombinatorialOptimisation\n",
      "fridge       69.150978   83.206024                 163.684143\n",
      "dish washer  78.050056  167.286194                 241.650696\n",
      "microwave    34.286942   81.578827                 275.645447\n",
      "\n",
      "\n",
      "\n",
      "redd_1_rmse\n",
      "                   Mean   FHMMExact  CombinatorialOptimisation\n",
      "fridge        80.203093  121.692612                 199.626859\n",
      "dish washer  253.148934  255.244070                 446.380163\n",
      "microwave    161.838739  171.196627                 519.516301\n",
      "\n",
      "\n",
      "\n"
     ]
    }
   ],
   "source": [
    "errors_keys = api_results_experiment_2.errors_keys\n",
    "errors = api_results_experiment_2.errors\n",
    "for i in range(len(errors)):\n",
    "    print (errors_keys[i])\n",
    "    print (errors[i])\n",
    "    print (\"\\n\\n\")"
   ]
  },
  {
   "cell_type": "markdown",
   "metadata": {},
   "source": [
    "The API makes running experiments extremely quick and efficient, with the emphasis on creating finely tuned reproducible experiments where model and parameter performances can be easily evaluated at a glance.   "
   ]
  },
  {
   "cell_type": "markdown",
   "metadata": {},
   "source": [
    "In the next iteration of this experiment, we introduce more parameters _chunksize_, _DROP_ALL_NANS_ and _artificial_aggregate_ and add another disaggregation algorithm (_Hart85_). We also train and test data from multiple buildings of the same dataset."
   ]
  },
  {
   "cell_type": "markdown",
   "metadata": {},
   "source": [
    "We also import the Hart algorithm for the next experiment"
   ]
  },
  {
   "cell_type": "code",
   "execution_count": 11,
   "metadata": {},
   "outputs": [],
   "source": [
    "from nilmtk.disaggregate import Hart85"
   ]
  },
  {
   "cell_type": "code",
   "execution_count": 12,
   "metadata": {},
   "outputs": [],
   "source": [
    "experiment3 = {\n",
    "  'power': {'mains': ['apparent','active'],'appliance': ['apparent','active']},\n",
    "  'sample_rate': 60,\n",
    "  # 'appliances': ['fridge','air conditioner','electric furnace','washing machine'],\n",
    "  'appliances': ['fridge','dish washer', 'microwave'],\n",
    "  'artificial_aggregate': True,\n",
    "  'chunksize': 20000,\n",
    "  'DROP_ALL_NANS': False,\n",
    "  # 'methods': {\"Mean\":Mean({}),\"Hart85\":Hart85({}), \"FHMM_EXACT\":FHMM_EXACT({'num_of_states':2}), \"CO\":CO({})},\n",
    "  'methods': {\"Mean\":Mean({}),\"Hart85\":Hart85({}), \"FHMMExact\":FHMMExact({'num_of_states':2}), \"CO\":CO({})},\n",
    "  'train': {    \n",
    "    'datasets': {\n",
    "      #'Dataport': {\n",
    "      #  'path': 'data/dataport.hdf5',\n",
    "      #  'buildings': {\n",
    "      #    54: {\n",
    "      #      'start_time': '2015-01-28',\n",
    "      #      'end_time': '2015-02-12'\n",
    "      #    },\n",
    "      #    56: {\n",
    "      #      'start_time': '2015-01-28',\n",
    "      #      'end_time': '2015-02-12'\n",
    "      #    },\n",
    "      #    57: {\n",
    "      #      'start_time': '2015-04-30',\n",
    "      #      'end_time': '2015-05-14'\n",
    "      #    },\n",
    "      #          }                \n",
    "      #      }\n",
    "        'redd': {\n",
    "            'path': '../../dataset/redd/redd.h5',\n",
    "            'buildings': {\n",
    "                1: {\n",
    "                    'start_time': '2011-04-20',\n",
    "                    'end_time': '2011-04-21'\n",
    "                    }\n",
    "                }                \n",
    "            }\n",
    "        }\n",
    "    },\n",
    "  'test': {\n",
    "    'datasets': {\n",
    "      #'Datport': {\n",
    "      #  'path': 'data/dataport.hdf5',\n",
    "      #  'buildings': {\n",
    "      #    94: {\n",
    "      #      'start_time': '2015-04-30',\n",
    "      #      'end_time': '2015-05-07'\n",
    "      #    },\n",
    "      #    103: {\n",
    "      #      'start_time': '2014-01-26',\n",
    "      #      'end_time': '2014-02-03'\n",
    "      #    },\n",
    "      #    113: {\n",
    "      #      'start_time': '2015-04-30',\n",
    "      #      'end_time': '2015-05-07'\n",
    "      #    },\n",
    "      #  }\n",
    "      #}\n",
    "         'redd': {\n",
    "            'path': '../../dataset/redd/redd.h5',\n",
    "            'buildings': {\n",
    "                1: {\n",
    "                    'start_time': '2011-04-30',\n",
    "                    'end_time': '2011-05-01'\n",
    "                    },\n",
    "                2: {\n",
    "                    'start_time': '2011-04-30',\n",
    "                    'end_time': '2011-05-01'\n",
    "                    },\n",
    "                }\n",
    "            }        \n",
    "    },\n",
    "        'metrics':['mae', 'rmse']\n",
    "    }\n",
    "}"
   ]
  },
  {
   "cell_type": "code",
   "execution_count": 13,
   "metadata": {
    "scrolled": true
   },
   "outputs": [
    {
     "name": "stdout",
     "output_type": "stream",
     "text": [
      "Joint Testing for all algorithms\n",
      "Loading data for  redd  dataset\n",
      "Loading data for meter ElecMeterID(instance=2, building=1, dataset='REDD')     \n",
      "Done loading data all meters for this chunk.\n",
      "Creating an Artificial Aggregate\n",
      "Generating predictions for : Mean\n",
      "Generating predictions for : Hart85\n",
      "Finding Edges, please wait ...\n",
      "Edge detection complete.\n",
      "Creating transition frame ...\n",
      "Transition frame created.\n",
      "Creating states frame ...\n",
      "States frame created.\n",
      "Finished.\n",
      "Generating predictions for : FHMM\n",
      "Generating predictions for : CO\n",
      "...............CO disaggregate_chunk running.............\n",
      "............  mae  ..............owave'r'\n",
      "                  Mean     Hart85  FHMMExact         CO\n",
      "fridge       69.544853  14.712614  69.594574  20.867754\n",
      "dish washer  68.440933  99.631096  68.422577  68.422577\n",
      "microwave    41.142899  89.011604  54.325802  77.547081\n",
      "............  rmse  ..............\n",
      "                   Mean      Hart85   FHMMExact          CO\n",
      "fridge        80.210876   38.493287   80.212410   50.079000\n",
      "dish washer  256.203319  248.144513  256.218154  256.218154\n",
      "microwave    161.565752  344.156294  182.498266  288.965382\n",
      "Loading data for meter ElecMeterID(instance=2, building=2, dataset='REDD')     \n",
      "Done loading data all meters for this chunk.\n",
      "Creating an Artificial Aggregate\n",
      "Generating predictions for : Mean\n",
      "Generating predictions for : Hart85\n",
      "Finding Edges, please wait ...\n",
      "Edge detection complete.\n",
      "Creating transition frame ...\n",
      "Transition frame created.\n",
      "Creating states frame ...\n",
      "States frame created.\n",
      "Finished.\n",
      "Generating predictions for : FHMM\n",
      "Generating predictions for : CO\n",
      "...............CO disaggregate_chunk running.............\n",
      "............  mae  ..............owave'r'\n",
      "                  Mean     Hart85  FHMMExact         CO\n",
      "fridge       82.871750  32.943031  82.867722  32.407295\n",
      "dish washer  23.114321  92.584518  23.095264  23.095264\n",
      "microwave    35.856228  44.888508  39.568760  44.986118\n",
      "............  rmse  ..............\n",
      "                   Mean      Hart85   FHMMExact          CO\n",
      "fridge        95.468909   61.741750   95.429616   60.662867\n",
      "dish washer  152.608011  172.967895  152.616407  152.616407\n",
      "microwave    152.074226  217.367111  154.138793  179.959989\n"
     ]
    }
   ],
   "source": [
    "api_results_experiment_3 = API(experiment3)"
   ]
  },
  {
   "cell_type": "code",
   "execution_count": 14,
   "metadata": {},
   "outputs": [
    {
     "name": "stdout",
     "output_type": "stream",
     "text": [
      "redd_1_mae\n",
      "                  Mean     Hart85  FHMMExact         CO\n",
      "fridge       69.544853  14.712614  69.594574  20.867754\n",
      "dish washer  68.440933  99.631096  68.422577  68.422577\n",
      "microwave    41.142899  89.011604  54.325802  77.547081\n",
      "\n",
      "\n",
      "\n",
      "redd_1_rmse\n",
      "                   Mean      Hart85   FHMMExact          CO\n",
      "fridge        80.210876   38.493287   80.212410   50.079000\n",
      "dish washer  256.203319  248.144513  256.218154  256.218154\n",
      "microwave    161.565752  344.156294  182.498266  288.965382\n",
      "\n",
      "\n",
      "\n",
      "redd_2_mae\n",
      "                  Mean     Hart85  FHMMExact         CO\n",
      "fridge       82.871750  32.943031  82.867722  32.407295\n",
      "dish washer  23.114321  92.584518  23.095264  23.095264\n",
      "microwave    35.856228  44.888508  39.568760  44.986118\n",
      "\n",
      "\n",
      "\n",
      "redd_2_rmse\n",
      "                   Mean      Hart85   FHMMExact          CO\n",
      "fridge        95.468909   61.741750   95.429616   60.662867\n",
      "dish washer  152.608011  172.967895  152.616407  152.616407\n",
      "microwave    152.074226  217.367111  154.138793  179.959989\n",
      "\n",
      "\n",
      "\n"
     ]
    }
   ],
   "source": [
    "errors_keys = api_results_experiment_3.errors_keys\n",
    "errors = api_results_experiment_3.errors\n",
    "for i in range(len(errors)):\n",
    "    print (errors_keys[i])\n",
    "    print (errors[i])\n",
    "    print (\"\\n\\n\")"
   ]
  },
  {
   "cell_type": "markdown",
   "metadata": {},
   "source": [
    "The results of the above experiment are presented for every chunk per building in the test set."
   ]
  },
  {
   "cell_type": "markdown",
   "metadata": {},
   "source": [
    "In the following experiment, we demonstrate how to run experiments across datasets, which was previously not possible. The important thing to pay attention to is that such datasets can only be trained and tested together as long as they have common appliances in homes with common _ac_types_."
   ]
  },
  {
   "cell_type": "code",
   "execution_count": 15,
   "metadata": {},
   "outputs": [],
   "source": [
    "experiment4 = {\n",
    "  'power': {'mains': ['apparent','active'],'appliance': ['apparent','active']},\n",
    "  'sample_rate': 60,\n",
    "  'appliances': ['washing machine','fridge'],\n",
    "  'artificial_aggregate': True,\n",
    "  'chunksize': 20000,\n",
    "  'DROP_ALL_NANS': False,\n",
    "  # 'methods': {\"Mean\":Mean({}),\"Hart85\":Hart85({}), \"FHMM_EXACT\":FHMM_EXACT({'num_of_states':2}), 'CO':CO({})},   \n",
    "  'methods': {\"Mean\":Mean({}),\"Hart85\":Hart85({}), \"FHMMExact\":FHMMExact({'num_of_states':2}), 'CO':CO({})}, \n",
    "  'train': {\n",
    "    'datasets': {\n",
    "      'UKDALE': {\n",
    "        # 'path': 'C:/Users/Hp/Desktop/nilmtk-contrib/ukdale.h5',\n",
    "        'path': '../../dataset/ukdale/ukdale.h5',\n",
    "        'buildings': {\n",
    "              1: {\n",
    "                'start_time': '2017-01-05',\n",
    "                # 'end_time': '2017-03-05'\n",
    "                'end_time': '2017-01-06'\n",
    "              },          \n",
    "            }\n",
    "          },        \n",
    "        }\n",
    "      },    \n",
    "  'test': {\n",
    "    'datasets': {\n",
    "      #'DRED': {\n",
    "      #  'path': 'C:/Users/Hp/Desktop/nilmtk-contrib/dred.h5',\n",
    "      #  'buildings': {\n",
    "      #        1: {\n",
    "      #              'start_time': '2015-09-21',\n",
    "      #              'end_time': '2015-10-01'\n",
    "      #    }\n",
    "      #  }\n",
    "      #},\n",
    "      'REDD': {\n",
    "        # 'path': 'C:/Users/Hp/Desktop/nilmtk-contrib/redd.h5',\n",
    "        'path': '../../dataset/redd/redd.h5',\n",
    "        'buildings': {\n",
    "              1: {\n",
    "                    # 'start_time': '2011-04-17',\n",
    "                    # 'end_time': '2011-04-27'\n",
    "                    'start_time': '2011-04-30',\n",
    "                    'end_time': '2011-05-01'\n",
    "          }\n",
    "        }\n",
    "      }\n",
    "    },\n",
    "        'metrics':['mae', 'rmse']\n",
    "    }\n",
    "}"
   ]
  },
  {
   "cell_type": "code",
   "execution_count": 17,
   "metadata": {
    "scrolled": true
   },
   "outputs": [
    {
     "name": "stdout",
     "output_type": "stream",
     "text": [
      "Joint Testing for all algorithms\n",
      "Loading data for  REDD  dataset\n",
      "Loading data for meter ElecMeterID(instance=2, building=1, dataset='REDD')     \n",
      "Done loading data all meters for this chunk.\n",
      "Loading data for meter ElecMeterID(instance=20, building=1, dataset='REDD')     \n",
      "Done loading data all meters for this chunk.\n",
      "Creating an Artificial Aggregate\n",
      "Generating predictions for : Mean\n",
      "Generating predictions for : Hart85\n",
      "Finding Edges, please wait ...\n",
      "Edge detection complete.\n",
      "Creating transition frame ...\n",
      "Transition frame created.\n",
      "Creating states frame ...\n",
      "States frame created.\n",
      "Finished.\n",
      "Generating predictions for : FHMM\n",
      "Generating predictions for : CO\n",
      "...............CO disaggregate_chunk running.............\n",
      "............  mae  ..............ge' machine'\n",
      "                       Mean      Hart85   FHMMExact         CO\n",
      "washing machine  376.332214  161.648666  143.177536  85.860405\n",
      "fridge            60.663910   38.429340   37.200783  47.971703\n",
      "............  rmse  ..............\n",
      "                       Mean      Hart85   FHMMExact          CO\n",
      "washing machine  672.054034  566.647736  496.224102  218.785881\n",
      "fridge            81.935459   58.822408   59.372118   84.568095\n"
     ]
    }
   ],
   "source": [
    "api_results_experiment_4 = API(experiment4)"
   ]
  },
  {
   "cell_type": "code",
   "execution_count": 18,
   "metadata": {},
   "outputs": [
    {
     "name": "stdout",
     "output_type": "stream",
     "text": [
      "REDD_1_mae\n",
      "                       Mean      Hart85   FHMMExact         CO\n",
      "washing machine  376.332214  161.648666  143.177536  85.860405\n",
      "fridge            60.663910   38.429340   37.200783  47.971703\n",
      "\n",
      "\n",
      "\n",
      "REDD_1_rmse\n",
      "                       Mean      Hart85   FHMMExact          CO\n",
      "washing machine  672.054034  566.647736  496.224102  218.785881\n",
      "fridge            81.935459   58.822408   59.372118   84.568095\n",
      "\n",
      "\n",
      "\n"
     ]
    }
   ],
   "source": [
    "errors_keys = api_results_experiment_4.errors_keys\n",
    "errors = api_results_experiment_4.errors\n",
    "for i in range(len(errors)):\n",
    "    print (errors_keys[i])\n",
    "    print (errors[i])\n",
    "    print (\"\\n\\n\")"
   ]
  },
  {
   "cell_type": "markdown",
   "metadata": {},
   "source": [
    "Just like the above experiments, any user can set up other experiments very quickly. "
   ]
  },
  {
   "cell_type": "code",
   "execution_count": null,
   "metadata": {},
   "outputs": [],
   "source": []
  }
 ],
 "metadata": {
  "kernelspec": {
   "display_name": "Python 3 (ipykernel)",
   "language": "python",
   "name": "python3"
  },
  "language_info": {
   "codemirror_mode": {
    "name": "ipython",
    "version": 3
   },
   "file_extension": ".py",
   "mimetype": "text/x-python",
   "name": "python",
   "nbconvert_exporter": "python",
   "pygments_lexer": "ipython3",
   "version": "3.11.8"
  }
 },
 "nbformat": 4,
 "nbformat_minor": 4
}
